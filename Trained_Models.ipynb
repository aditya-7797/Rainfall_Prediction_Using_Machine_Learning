{
 "cells": [
  {
   "cell_type": "code",
   "execution_count": 1,
   "id": "f0859fb0-2bff-4416-8c3d-6f763248a3e0",
   "metadata": {},
   "outputs": [],
   "source": [
    "import pandas as pd\n",
    "from sklearn.model_selection import train_test_split\n",
    "from sklearn.preprocessing import StandardScaler, LabelEncoder\n",
    "\n",
    "# Load the dataset\n",
    "file_path = 'final_processed_dataset.csv'\n",
    "rainfall_data = pd.read_csv(file_path)\n",
    "\n",
    "# Defining features (X) and target (y)\n",
    "X = rainfall_data.drop(columns=['precipMM','date_time'])\n",
    "y = rainfall_data['precipMM']\n",
    "\n",
    "# Encode categorical columns (e.g., 'year', 'month', 'day', 'hour')\n",
    "label_encoder = LabelEncoder()\n",
    "categorical_columns = ['month', 'day', 'hour']\n",
    "for col in categorical_columns:\n",
    "    X[col] = label_encoder.fit_transform(X[col])\n",
    "\n",
    "# Split the dataset into training and test sets (80% train, 20% test)\n",
    "X_train, X_test, y_train, y_test = train_test_split(X, y, test_size=0.2, random_state=42)\n",
    "\n",
    "# Normalize the numerical features\n",
    "scaler = StandardScaler()\n",
    "X_train_scaled = scaler.fit_transform(X_train)\n",
    "X_test_scaled = scaler.transform(X_test)\n"
   ]
  },
  {
   "cell_type": "code",
   "execution_count": 2,
   "id": "ceaa2f0b-119f-41fe-9487-ef2a88645268",
   "metadata": {},
   "outputs": [
    {
     "name": "stdout",
     "output_type": "stream",
     "text": [
      "Random Forest Evaluation:\n",
      "MSE: 0.22757278302049253\n",
      "MAE: 0.1319801963147925\n",
      "R²: 0.6697222605860944\n"
     ]
    }
   ],
   "source": [
    "from sklearn.ensemble import RandomForestRegressor\n",
    "from sklearn.metrics import mean_squared_error, mean_absolute_error, r2_score\n",
    "\n",
    "# Initialize the model\n",
    "rf_model = RandomForestRegressor(n_estimators=100, random_state=42)\n",
    "\n",
    "# Train the model\n",
    "rf_model.fit(X_train_scaled, y_train)\n",
    "\n",
    "# Predict on the test set\n",
    "rf_predictions = rf_model.predict(X_test_scaled)\n",
    "\n",
    "# Evaluate the model\n",
    "rf_mse = mean_squared_error(y_test, rf_predictions)\n",
    "rf_mae = mean_absolute_error(y_test, rf_predictions)\n",
    "rf_r2 = r2_score(y_test, rf_predictions)\n",
    "\n",
    "print(f\"Random Forest Evaluation:\\nMSE: {rf_mse}\\nMAE: {rf_mae}\\nR²: {rf_r2}\")\n"
   ]
  },
  {
   "cell_type": "code",
   "execution_count": 3,
   "id": "668853d0-ba75-473d-87b5-87cab6749020",
   "metadata": {},
   "outputs": [
    {
     "name": "stdout",
     "output_type": "stream",
     "text": [
      "Support Vector Regressor Evaluation:\n",
      "MSE: 0.4491219586399516\n",
      "MAE: 0.17482563152507352\n",
      "R²: 0.3481866185755986\n"
     ]
    }
   ],
   "source": [
    "from sklearn.svm import SVR\n",
    "\n",
    "# Initialize the model\n",
    "svr_model = SVR()\n",
    "\n",
    "# Train the model\n",
    "svr_model.fit(X_train_scaled, y_train)\n",
    "\n",
    "# Predict on the test set\n",
    "svr_predictions = svr_model.predict(X_test_scaled)\n",
    "\n",
    "# Evaluate the model\n",
    "svr_mse = mean_squared_error(y_test, svr_predictions)\n",
    "svr_mae = mean_absolute_error(y_test, svr_predictions)\n",
    "svr_r2 = r2_score(y_test, svr_predictions)\n",
    "\n",
    "print(f\"Support Vector Regressor Evaluation:\\nMSE: {svr_mse}\\nMAE: {svr_mae}\\nR²: {svr_r2}\")\n"
   ]
  },
  {
   "cell_type": "code",
   "execution_count": 4,
   "id": "8f2fe1e2-1b3c-4a5d-a166-0c60b65f5fb2",
   "metadata": {},
   "outputs": [
    {
     "name": "stdout",
     "output_type": "stream",
     "text": [
      "K-Nearest Neighbors Evaluation:\n",
      "MSE: 0.2446637162045807\n",
      "MAE: 0.13510246254520408\n",
      "R²: 0.6449180871625684\n"
     ]
    }
   ],
   "source": [
    "from sklearn.neighbors import KNeighborsRegressor\n",
    "\n",
    "# Initialize the model\n",
    "knn_model = KNeighborsRegressor(n_neighbors=5)\n",
    "\n",
    "# Train the model\n",
    "knn_model.fit(X_train_scaled, y_train)\n",
    "\n",
    "# Predict on the test set\n",
    "knn_predictions = knn_model.predict(X_test_scaled)\n",
    "\n",
    "# Evaluate the model\n",
    "knn_mse = mean_squared_error(y_test, knn_predictions)\n",
    "knn_mae = mean_absolute_error(y_test, knn_predictions)\n",
    "knn_r2 = r2_score(y_test, knn_predictions)\n",
    "\n",
    "print(f\"K-Nearest Neighbors Evaluation:\\nMSE: {knn_mse}\\nMAE: {knn_mae}\\nR²: {knn_r2}\")\n"
   ]
  },
  {
   "cell_type": "code",
   "execution_count": 5,
   "id": "370a6948-3794-413a-bcad-701a6f0f984d",
   "metadata": {},
   "outputs": [
    {
     "name": "stdout",
     "output_type": "stream",
     "text": [
      "XGBoost Evaluation:\n",
      "MSE: 0.2503324617224022\n",
      "MAE: 0.1558910407539692\n",
      "R²: 0.6366910029300474\n"
     ]
    }
   ],
   "source": [
    "from xgboost import XGBRegressor\n",
    "from sklearn.metrics import mean_squared_error, mean_absolute_error, r2_score\n",
    "\n",
    "# Initialize the model\n",
    "xgb_model = XGBRegressor(n_estimators=100, random_state=42)\n",
    "\n",
    "# Train the model\n",
    "xgb_model.fit(X_train_scaled, y_train)\n",
    "\n",
    "# Predict on the test set\n",
    "xgb_predictions = xgb_model.predict(X_test_scaled)\n",
    "\n",
    "# Evaluate the model\n",
    "xgb_mse = mean_squared_error(y_test, xgb_predictions)\n",
    "xgb_mae = mean_absolute_error(y_test, xgb_predictions)\n",
    "xgb_r2 = r2_score(y_test, xgb_predictions)\n",
    "\n",
    "print(f\"XGBoost Evaluation:\\nMSE: {xgb_mse}\\nMAE: {xgb_mae}\\nR²: {xgb_r2}\")\n"
   ]
  },
  {
   "cell_type": "code",
   "execution_count": null,
   "id": "102dd039-f4ee-4b56-82d8-d14855bd42b1",
   "metadata": {},
   "outputs": [],
   "source": []
  }
 ],
 "metadata": {
  "kernelspec": {
   "display_name": "Python 3 (ipykernel)",
   "language": "python",
   "name": "python3"
  },
  "language_info": {
   "codemirror_mode": {
    "name": "ipython",
    "version": 3
   },
   "file_extension": ".py",
   "mimetype": "text/x-python",
   "name": "python",
   "nbconvert_exporter": "python",
   "pygments_lexer": "ipython3",
   "version": "3.12.4"
  }
 },
 "nbformat": 4,
 "nbformat_minor": 5
}
